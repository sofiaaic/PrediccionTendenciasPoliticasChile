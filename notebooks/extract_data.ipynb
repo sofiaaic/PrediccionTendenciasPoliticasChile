{
 "cells": [
  {
   "cell_type": "markdown",
   "id": "d982c172",
   "metadata": {},
   "source": [
    "Acá dejaremos el codigo para extraer los datos RAW."
   ]
  }
 ],
 "metadata": {
  "language_info": {
   "name": "python"
  }
 },
 "nbformat": 4,
 "nbformat_minor": 5
}
