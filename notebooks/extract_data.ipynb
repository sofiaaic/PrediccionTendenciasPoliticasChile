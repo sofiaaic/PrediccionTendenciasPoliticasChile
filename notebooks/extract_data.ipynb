{
  "cells": [
    {
      "cell_type": "markdown",
      "metadata": {
        "id": "view-in-github",
        "colab_type": "text"
      },
      "source": [
        "<a href=\"https://colab.research.google.com/github/sofiaaic/PrediccionTendenciasPoliticasChile/blob/joaquin/notebooks/extract_data.ipynb\" target=\"_parent\"><img src=\"https://colab.research.google.com/assets/colab-badge.svg\" alt=\"Open In Colab\"/></a>"
      ]
    },
    {
      "cell_type": "markdown",
      "id": "d982c172",
      "metadata": {
        "id": "d982c172"
      },
      "source": [
        "Acá dejaremos el codigo para extraer los datos RAW."
      ]
    },
    {
      "cell_type": "code",
      "source": [
        "# (Opcional) instala motores para Excel si hace falta\n",
        "!pip -q install openpyxl\n"
      ],
      "metadata": {
        "id": "5A7BOQPbrIEb"
      },
      "id": "5A7BOQPbrIEb",
      "execution_count": 3,
      "outputs": []
    },
    {
      "cell_type": "code",
      "source": [
        "# 1) Montar Drive\n",
        "from google.colab import drive\n",
        "\n",
        "CARPETA = '/content/drive/MyDrive/data_votantes_chile'  # ajusta a tu ruta\n",
        "drive.mount('/content/drive')  # autoriza con tu cuenta"
      ],
      "metadata": {
        "colab": {
          "base_uri": "https://localhost:8080/"
        },
        "id": "rrTV3k3ErGiN",
        "outputId": "a8ca65d5-16b9-47f4-f64a-0b0823242d8a"
      },
      "id": "rrTV3k3ErGiN",
      "execution_count": 4,
      "outputs": [
        {
          "output_type": "stream",
          "name": "stdout",
          "text": [
            "Mounted at /content/drive\n"
          ]
        }
      ]
    },
    {
      "cell_type": "code",
      "source": [
        "\n",
        "# 2) Configurar ruta de carpeta en tu Drive\n",
        "#    Ejemplo: \"Mi unidad/Proyectos/Excels\"\n",
        "import os, glob\n",
        "import pandas as pd\n",
        "\n",
        "CARPETA = '/content/drive/MyDrive/data_votantes_chile'  # ajusta a tu ruta\n",
        "\n",
        "\n",
        "# 3) Buscar archivos .xlsx (evitar temporales ~$.xlsx)\n",
        "rutas = [p for p in glob.glob(os.path.join(CARPETA, '**', '*.xlsx'), recursive=True)\n",
        "         if not os.path.basename(p).startswith('~$')]\n",
        "\n",
        "print(f'Encontrados {len(rutas)} archivos:')\n",
        "for r in rutas: print('-', os.path.relpath(r, CARPETA))\n",
        "\n",
        "# 4) Leer y concatenar (elige la hoja, columnas, tipos, etc.)\n",
        "dfs = []\n",
        "for ruta in rutas:\n",
        "    print(\"Ruta: \", ruta)\n",
        "    # Personaliza: sheet_name, usecols, dtype, skiprows…\n",
        "    df = pd.read_excel(\n",
        "        ruta,\n",
        "        sheet_name='Votación en Chile',\n",
        "        skiprows=6,\n",
        "        engine='openpyxl'\n",
        "    )\n",
        "    df['__archivo_origen'] = os.path.basename(ruta)  # traza\n",
        "    print(df.head())\n",
        "    dfs.append(df)\n",
        "\n",
        "df_total = pd.concat(dfs, ignore_index=True)\n",
        "df_total.head()\n"
      ],
      "metadata": {
        "colab": {
          "base_uri": "https://localhost:8080/"
        },
        "id": "xDVqwScRqqeQ",
        "outputId": "b9d6bc2e-102f-4450-8614-1584f750ce5d"
      },
      "id": "xDVqwScRqqeQ",
      "execution_count": null,
      "outputs": [
        {
          "output_type": "stream",
          "name": "stdout",
          "text": [
            "Encontrados 10 archivos:\n",
            "- 2021_12_Presidencial_2V_Datos_Eleccion.xlsx\n",
            "- 2021_11_Presidencial_1V_Datos_Eleccion.xlsx\n",
            "- 2021_07_PresidencialPrimarias_Datos_Eleccion.xlsx\n",
            "- 2017_12_Presidencial_2V_Datos_Eleccion.xlsx\n",
            "- 2017_11_Presidencial_Datos_Eleccion.xlsx\n",
            "- 2017_07_PrimariaPresidencial_DatosEleccion.xlsx\n",
            "- 2013_11_Presidencial_DatosEleccion.xlsx\n",
            "- 2013_12_Presidencial_2V_DatosEleccion.xlsx\n",
            "- 2013_06_PresidencialPrimarias_DatosEleccion.xlsx\n",
            "- 2025_06_PrimariasPresidencial_Datos_Eleccion.xlsx\n",
            "Ruta:  /content/drive/MyDrive/data_votantes_chile/2021_12_Presidencial_2V_Datos_Eleccion.xlsx\n",
            "   Nro Región       Región    Circunscripción senatorial    Distrito  \\\n",
            "0           1  DE TARAPACA  CIRCUNSCRIPCION SENATORIAL 2  DISTRITO 2   \n",
            "1           1  DE TARAPACA  CIRCUNSCRIPCION SENATORIAL 2  DISTRITO 2   \n",
            "2           1  DE TARAPACA  CIRCUNSCRIPCION SENATORIAL 2  DISTRITO 2   \n",
            "3           1  DE TARAPACA  CIRCUNSCRIPCION SENATORIAL 2  DISTRITO 2   \n",
            "4           1  DE TARAPACA  CIRCUNSCRIPCION SENATORIAL 2  DISTRITO 2   \n",
            "\n",
            "          Comuna Circunscripción electoral  \\\n",
            "0  ALTO HOSPICIO             ALTO HOSPICIO   \n",
            "1  ALTO HOSPICIO             ALTO HOSPICIO   \n",
            "2  ALTO HOSPICIO             ALTO HOSPICIO   \n",
            "3  ALTO HOSPICIO             ALTO HOSPICIO   \n",
            "4  ALTO HOSPICIO             ALTO HOSPICIO   \n",
            "\n",
            "                                     Local Mesa  Nro.Voto          Nombres  \\\n",
            "0  ANEXO DE COLEGIO SAN ANTONIO DE MATILLA  20M       1.0          GABRIEL   \n",
            "1  ANEXO DE COLEGIO SAN ANTONIO DE MATILLA  20M       2.0     JOSE ANTONIO   \n",
            "2  ANEXO DE COLEGIO SAN ANTONIO DE MATILLA  20M       NaN      VOTOS NULOS   \n",
            "3  ANEXO DE COLEGIO SAN ANTONIO DE MATILLA  20M       NaN  VOTOS EN BLANCO   \n",
            "4  ANEXO DE COLEGIO SAN ANTONIO DE MATILLA  21M       1.0          GABRIEL   \n",
            "\n",
            "  Primer apellido Segundo apellido  Votos   Cargo  \\\n",
            "0           BORIC             FONT     71  ELECTO   \n",
            "1            KAST             RIST     92     NaN   \n",
            "2             NaN              NaN      1     NaN   \n",
            "3             NaN              NaN      0     NaN   \n",
            "4           BORIC             FONT     82  ELECTO   \n",
            "\n",
            "                              __archivo_origen  \n",
            "0  2021_12_Presidencial_2V_Datos_Eleccion.xlsx  \n",
            "1  2021_12_Presidencial_2V_Datos_Eleccion.xlsx  \n",
            "2  2021_12_Presidencial_2V_Datos_Eleccion.xlsx  \n",
            "3  2021_12_Presidencial_2V_Datos_Eleccion.xlsx  \n",
            "4  2021_12_Presidencial_2V_Datos_Eleccion.xlsx  \n",
            "Ruta:  /content/drive/MyDrive/data_votantes_chile/2021_11_Presidencial_1V_Datos_Eleccion.xlsx\n",
            "   Nro Región       Región    Circunscripción senatorial    Distrito  \\\n",
            "0           1  DE TARAPACA  CIRCUNSCRIPCION SENATORIAL 2  DISTRITO 2   \n",
            "1           1  DE TARAPACA  CIRCUNSCRIPCION SENATORIAL 2  DISTRITO 2   \n",
            "2           1  DE TARAPACA  CIRCUNSCRIPCION SENATORIAL 2  DISTRITO 2   \n",
            "3           1  DE TARAPACA  CIRCUNSCRIPCION SENATORIAL 2  DISTRITO 2   \n",
            "4           1  DE TARAPACA  CIRCUNSCRIPCION SENATORIAL 2  DISTRITO 2   \n",
            "\n",
            "          Comuna Circunscripción electoral  \\\n",
            "0  ALTO HOSPICIO             ALTO HOSPICIO   \n",
            "1  ALTO HOSPICIO             ALTO HOSPICIO   \n",
            "2  ALTO HOSPICIO             ALTO HOSPICIO   \n",
            "3  ALTO HOSPICIO             ALTO HOSPICIO   \n",
            "4  ALTO HOSPICIO             ALTO HOSPICIO   \n",
            "\n",
            "                                     Local Mesa  Nro.Voto       Nombres  \\\n",
            "0  ANEXO DE COLEGIO SAN ANTONIO DE MATILLA  20M       1.0       GABRIEL   \n",
            "1  ANEXO DE COLEGIO SAN ANTONIO DE MATILLA  20M       2.0  JOSE ANTONIO   \n",
            "2  ANEXO DE COLEGIO SAN ANTONIO DE MATILLA  20M       3.0         YASNA   \n",
            "3  ANEXO DE COLEGIO SAN ANTONIO DE MATILLA  20M       4.0     SEBASTIAN   \n",
            "4  ANEXO DE COLEGIO SAN ANTONIO DE MATILLA  20M       5.0       EDUARDO   \n",
            "\n",
            "  Primer apellido Segundo apellido  Votos                       Nominado  \\\n",
            "0           BORIC             FONT     22  SELECCIONADO SEGUNDA VOTACION   \n",
            "1            KAST             RIST     36  SELECCIONADO SEGUNDA VOTACION   \n",
            "2        PROVOSTE        CAMPILLAY     15                            NaN   \n",
            "3          SICHEL          RAMIREZ     12                            NaN   \n",
            "4           ARTES        BRICHETTI      1                            NaN   \n",
            "\n",
            "                              __archivo_origen  \n",
            "0  2021_11_Presidencial_1V_Datos_Eleccion.xlsx  \n",
            "1  2021_11_Presidencial_1V_Datos_Eleccion.xlsx  \n",
            "2  2021_11_Presidencial_1V_Datos_Eleccion.xlsx  \n",
            "3  2021_11_Presidencial_1V_Datos_Eleccion.xlsx  \n",
            "4  2021_11_Presidencial_1V_Datos_Eleccion.xlsx  \n",
            "Ruta:  /content/drive/MyDrive/data_votantes_chile/2021_07_PresidencialPrimarias_Datos_Eleccion.xlsx\n"
          ]
        }
      ]
    }
  ],
  "metadata": {
    "language_info": {
      "name": "python"
    },
    "colab": {
      "provenance": [],
      "include_colab_link": true
    },
    "kernelspec": {
      "name": "python3",
      "display_name": "Python 3"
    }
  },
  "nbformat": 4,
  "nbformat_minor": 5
}