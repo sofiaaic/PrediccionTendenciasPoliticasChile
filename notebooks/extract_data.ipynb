{
  "cells": [
    {
      "cell_type": "markdown",
      "metadata": {
        "id": "view-in-github",
        "colab_type": "text"
      },
      "source": [
        "<a href=\"https://colab.research.google.com/github/sofiaaic/PrediccionTendenciasPoliticasChile/blob/joaquin/notebooks/extract_data.ipynb\" target=\"_parent\"><img src=\"https://colab.research.google.com/assets/colab-badge.svg\" alt=\"Open In Colab\"/></a>"
      ]
    },
    {
      "cell_type": "markdown",
      "id": "d982c172",
      "metadata": {
        "id": "d982c172"
      },
      "source": [
        "Acá dejaremos el codigo para extraer los datos RAW."
      ]
    },
    {
      "cell_type": "code",
      "source": [
        "# (Opcional) instala motores para Excel si hace falta\n",
        "!pip -q install openpyxl\n"
      ],
      "metadata": {
        "id": "5A7BOQPbrIEb"
      },
      "id": "5A7BOQPbrIEb",
      "execution_count": 3,
      "outputs": []
    },
    {
      "cell_type": "code",
      "source": [
        "# 1) Montar Drive\n",
        "from google.colab import drive\n",
        "\n",
        "CARPETA = '/content/drive/MyDrive/data_votantes_chile'  # ajusta a tu ruta\n",
        "drive.mount('/content/drive')  # autoriza con tu cuenta"
      ],
      "metadata": {
        "colab": {
          "base_uri": "https://localhost:8080/"
        },
        "id": "rrTV3k3ErGiN",
        "outputId": "a8ca65d5-16b9-47f4-f64a-0b0823242d8a"
      },
      "id": "rrTV3k3ErGiN",
      "execution_count": 4,
      "outputs": [
        {
          "output_type": "stream",
          "name": "stdout",
          "text": [
            "Mounted at /content/drive\n"
          ]
        }
      ]
    },
    {
      "cell_type": "code",
      "source": [
        "\n",
        "# 2) Configurar ruta de carpeta en tu Drive\n",
        "#    Ejemplo: \"Mi unidad/Proyectos/Excels\"\n",
        "import os, glob\n",
        "import pandas as pd\n",
        "\n",
        "CARPETA = '/content/drive/MyDrive/data_votantes_chile'  # ajusta a tu ruta\n",
        "\n",
        "\n",
        "# 3) Buscar archivos .xlsx (evitar temporales ~$.xlsx)\n",
        "rutas = [p for p in glob.glob(os.path.join(CARPETA, '**', '*.xlsx'), recursive=True)\n",
        "         if not os.path.basename(p).startswith('~$')]\n",
        "# ===============================================================\n",
        "# 4) Leer y concatenar las hojas \"Votación en Chile\"\n",
        "# ===============================================================\n",
        "dfs = []\n",
        "\n",
        "for ruta in rutas:\n",
        "    nombre_archivo = os.path.basename(ruta)\n",
        "    print(f\"\\n🔍 Leyendo archivo: {nombre_archivo}\")\n",
        "\n",
        "    try:\n",
        "        df = pd.read_excel(\n",
        "            ruta,\n",
        "            sheet_name='Votación en Chile',\n",
        "            skiprows=6,\n",
        "            engine='openpyxl'\n",
        "        )\n",
        "        df['__archivo_origen'] = nombre_archivo\n",
        "        dfs.append(df)\n",
        "        print(f\"✅ Leído correctamente: {nombre_archivo} ({df.shape[0]} filas)\")\n",
        "\n",
        "    except ValueError as e:\n",
        "        # Si la hoja no existe, mostramos las disponibles\n",
        "        print(f\"⚠️ No se encontró la hoja 'Votación en Chile' en {nombre_archivo}\")\n",
        "        try:\n",
        "            xls = pd.ExcelFile(ruta, engine='openpyxl')\n",
        "            print(\"   🗒️ Hojas disponibles:\", xls.sheet_names)\n",
        "        except Exception as e2:\n",
        "            print(f\"   ❌ No se pudieron listar las hojas: {e2}\")\n",
        "    except Exception as e:\n",
        "        print(f\"❌ Error general leyendo {nombre_archivo}: {e}\")\n",
        "\n",
        "# ===============================================================\n",
        "# 5) Concatenar todos los DataFrames válidos\n",
        "# ===============================================================\n",
        "if dfs:\n",
        "    df_total = pd.concat(dfs, ignore_index=True)\n",
        "    print(f\"\\n✅ Total concatenado: {df_total.shape[0]} filas, {df_total.shape[1]} columnas\")\n",
        "else:\n",
        "    print(\"\\n⚠️ No se pudieron leer hojas válidas.\")\n",
        "    df_total = pd.DataFrame()\n",
        "\n",
        "# ===============================================================\n",
        "# 6) Guardar DataFrame final como Pickle (solo si no existe)\n",
        "# ===============================================================\n",
        "import os\n",
        "\n",
        "if not df_total.empty:\n",
        "    ruta_salida = os.path.join(CARPETA, 'df_votacion_chile.pkl')\n",
        "\n",
        "    if not os.path.exists(ruta_salida):\n",
        "        df_total.to_pickle(ruta_salida)\n",
        "        print(f\"💾 DataFrame guardado en: {ruta_salida}\")\n",
        "    else:\n",
        "        print(f\"⚠️ El archivo Pickle ya existe en: {ruta_salida}\")\n",
        "        print(\"   No se guardó para evitar sobrescribirlo.\")\n",
        "else:\n",
        "    print(\"⚠️ No se guardó el Pickle (DataFrame vacío).\")\n"
      ],
      "metadata": {
        "colab": {
          "base_uri": "https://localhost:8080/"
        },
        "id": "xDVqwScRqqeQ",
        "outputId": "36d23dbe-d05b-4192-f555-e72965b7cd4c"
      },
      "id": "xDVqwScRqqeQ",
      "execution_count": null,
      "outputs": [
        {
          "output_type": "stream",
          "name": "stdout",
          "text": [
            "\n",
            "🔍 Leyendo archivo: 2021_12_Presidencial_2V_Datos_Eleccion.xlsx\n",
            "✅ Leído correctamente: 2021_12_Presidencial_2V_Datos_Eleccion.xlsx (186556 filas)\n",
            "\n",
            "🔍 Leyendo archivo: 2021_11_Presidencial_1V_Datos_Eleccion.xlsx\n",
            "✅ Leído correctamente: 2021_11_Presidencial_1V_Datos_Eleccion.xlsx (419751 filas)\n",
            "\n",
            "🔍 Leyendo archivo: 2021_07_PresidencialPrimarias_Datos_Eleccion.xlsx\n"
          ]
        }
      ]
    }
  ],
  "metadata": {
    "language_info": {
      "name": "python"
    },
    "colab": {
      "provenance": [],
      "include_colab_link": true
    },
    "kernelspec": {
      "name": "python3",
      "display_name": "Python 3"
    }
  },
  "nbformat": 4,
  "nbformat_minor": 5
}