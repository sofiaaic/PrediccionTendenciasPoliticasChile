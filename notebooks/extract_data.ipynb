{
  "cells": [
    {
      "cell_type": "markdown",
      "metadata": {
        "id": "view-in-github",
        "colab_type": "text"
      },
      "source": [
        "<a href=\"https://colab.research.google.com/github/sofiaaic/PrediccionTendenciasPoliticasChile/blob/joaquin/notebooks/extract_data.ipynb\" target=\"_parent\"><img src=\"https://colab.research.google.com/assets/colab-badge.svg\" alt=\"Open In Colab\"/></a>"
      ]
    },
    {
      "cell_type": "markdown",
      "id": "d982c172",
      "metadata": {
        "id": "d982c172"
      },
      "source": [
        "Acá dejaremos el codigo para extraer los datos RAW."
      ]
    },
    {
      "cell_type": "code",
      "source": [
        "# (Opcional) instala motores para Excel si hace falta\n",
        "!pip -q install openpyxl\n"
      ],
      "metadata": {
        "id": "5A7BOQPbrIEb"
      },
      "id": "5A7BOQPbrIEb",
      "execution_count": 2,
      "outputs": []
    },
    {
      "cell_type": "code",
      "source": [
        "# 1) Montar Drive\n",
        "from google.colab import drive\n",
        "drive.mount('/content/drive')  # autoriza con tu cuenta\n"
      ],
      "metadata": {
        "id": "rrTV3k3ErGiN"
      },
      "id": "rrTV3k3ErGiN",
      "execution_count": null,
      "outputs": []
    },
    {
      "cell_type": "code",
      "source": [
        "\n",
        "# 2) Configurar ruta de carpeta en tu Drive\n",
        "#    Ejemplo: \"Mi unidad/Proyectos/Excels\"\n",
        "import os, glob\n",
        "import pandas as pd\n",
        "\n",
        "CARPETA = '/content/drive/MyDrive/data_votantes_chile'  # ajusta a tu ruta\n",
        "\n",
        "\n",
        "# 3) Buscar archivos .xlsx (evitar temporales ~$.xlsx)\n",
        "rutas = [p for p in glob.glob(os.path.join(CARPETA, '**', '*.xlsx'), recursive=True)\n",
        "         if not os.path.basename(p).startswith('~$')]\n",
        "\n",
        "print(f'Encontrados {len(rutas)} archivos:')\n",
        "for r in rutas: print('-', os.path.relpath(r, CARPETA))\n",
        "\n",
        "# 4) Leer y concatenar (elige la hoja, columnas, tipos, etc.)\n",
        "dfs = []\n",
        "for ruta in rutas:\n",
        "    # Personaliza: sheet_name, usecols, dtype, skiprows…\n",
        "    df = pd.read_excel(\n",
        "        ruta,\n",
        "        sheet_name=0,        # o el nombre: 'Hoja1'\n",
        "        engine='openpyxl',\n",
        "        # usecols='A:D',     # ejemplo para limitar columnas\n",
        "        # dtype={'RUT': str} # ejemplo para forzar tipos\n",
        "    )\n",
        "    df['__archivo_origen'] = os.path.basename(ruta)  # traza\n",
        "    dfs.append(df)\n",
        "\n",
        "df_total = pd.concat(dfs, ignore_index=True)\n",
        "df_total.head()\n"
      ],
      "metadata": {
        "id": "xDVqwScRqqeQ"
      },
      "id": "xDVqwScRqqeQ",
      "execution_count": null,
      "outputs": []
    }
  ],
  "metadata": {
    "language_info": {
      "name": "python"
    },
    "colab": {
      "provenance": [],
      "include_colab_link": true
    },
    "kernelspec": {
      "name": "python3",
      "display_name": "Python 3"
    }
  },
  "nbformat": 4,
  "nbformat_minor": 5
}